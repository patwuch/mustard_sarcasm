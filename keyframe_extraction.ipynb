{
 "cells": [
  {
   "cell_type": "code",
   "execution_count": 6,
   "metadata": {
    "colab": {
     "base_uri": "https://localhost:8080/"
    },
    "id": "wGxbI2fted1r",
    "outputId": "4aa946cd-1e02-4ea8-c881-122cc3f32215"
   },
   "outputs": [],
   "source": [
    "import pandas as pd\n",
    "import numpy as np\n",
    "\n",
    "df = pd.read_csv('D:/Thesis/mustardtext.csv')"
   ]
  },
  {
   "cell_type": "code",
   "execution_count": 4,
   "metadata": {},
   "outputs": [],
   "source": [
    "from Katna.video import Video\n",
    "from Katna.writer import KeyFrameDiskWriter\n",
    "import os\n",
    "\n",
    "# For windows, the below if condition is must.\n",
    "if __name__ == \"__main__\":\n",
    "\n",
    "  # initialize video module\n",
    "  vd = Video()\n",
    "\n",
    "  # number of images to be returned\n",
    "  no_of_frames_to_returned = 1\n",
    "\n",
    "  # initialize diskwriter to save data at desired location\n",
    "  diskwriter = KeyFrameDiskWriter(location=\"D:/Thesis/toy_keyframes\")\n",
    "\n",
    "  # extract keyframes and process data with diskwriter\n",
    "  vd.extract_video_keyframes(\n",
    "       no_of_frames=no_of_frames_to_returned, file_path=\"D:/Thesis/final_utterance_videos_1/1_S09E01_379_u.mp4\",\n",
    "       writer=diskwriter\n",
    "  )"
   ]
  },
  {
   "cell_type": "markdown",
   "metadata": {},
   "source": [
    "We tried extensively with using different builds of Katna and different functions of Katna, whose code varies as below. The instances where keyframe cannot be extracted however cannot be solved."
   ]
  },
  {
   "cell_type": "code",
   "execution_count": 5,
   "metadata": {},
   "outputs": [],
   "source": [
    "# from Katna.video import Video\n",
    "# import os\n",
    "# import ntpath\n",
    "\n",
    "# # For windows, the below if condition is must.\n",
    "# if __name__ == \"__main__\":\n",
    "\n",
    "#   #instantiate the video class\n",
    "#   vd = Video()\n",
    "\n",
    "#   #number of key-frame images to be extracted\n",
    "#   no_of_frames_to_return = 1\n",
    "\n",
    "#   #Input Video directory path\n",
    "#   #All .mp4 and .mov files inside this directory will be used for keyframe extraction)\n",
    "#   videos_dir_path = os.path.join(\".\", \"tests\",\"data\")\n",
    "\n",
    "#   #Call the public key-frame extraction method\n",
    "#   imgs = vd.extract_keyframes_from_videos_dir(no_of_frames = no_of_frames_to_return, \\\n",
    "#        dir_path = videos_dir_path)\n",
    "\n",
    "#   # Make folder for saving frames\n",
    "#   output_folder_video_image = 'selectedframes'\n",
    "#   if not os.path.isdir(os.path.join(\".\", output_folder_video_image)):\n",
    "#        os.mkdir(os.path.join(\".\", output_folder_video_image))\n",
    "\n",
    "#   # Save all the frames to disk by segregating them into folders having the same name as the video file\n",
    "#   for filepath, keyframe_data_li in imgs.items():\n",
    "\n",
    "#        # name of the video file\n",
    "#        filename = ntpath.basename(filepath)\n",
    "#        name = filename.split(\".\")[0]\n",
    "\n",
    "#        # folder path where the images will be stored\n",
    "#        output_file_parent_folder_path = os.path.join(\".\", output_folder_video_image, name)\n",
    "\n",
    "#        # make folder with name of video if it doesnt exist\n",
    "#        if not os.path.exists(output_file_parent_folder_path):\n",
    "#             os.makedirs(output_file_parent_folder_path)\n",
    "\n",
    "#        # save keyframes inside the folder\n",
    "#        for counter, img in enumerate(keyframe_data_li):\n",
    "#             vd.save_frame_to_disk(img, file_path=output_file_parent_folder_path,\n",
    "#                  file_name=name + \"_\" + str(counter), file_ext=\".jpeg\")"
   ]
  },
  {
   "cell_type": "code",
   "execution_count": 6,
   "metadata": {},
   "outputs": [],
   "source": [
    "# from Katna.video import Video\n",
    "# from Katna.writer import KeyFrameDiskWriter\n",
    "# import os\n",
    "# import ntpath\n",
    "\n",
    "# # For windows, the below if condition is must.\n",
    "# if __name__ == \"__main__\":\n",
    "\n",
    "#   #instantiate the video class\n",
    "#   vd = Video()\n",
    "\n",
    "#   #number of key-frame images to be extracted\n",
    "#   no_of_frames_to_return = 1\n",
    "\n",
    "#   #Input Video directory path\n",
    "#   #All .mp4 and .mov files inside this directory will be used for keyframe extraction)\n",
    "#   videos_dir_path = \"D:/Thesis/final_context_videos_1\"\n",
    "#   diskwriter = KeyFrameDiskWriter(location=\"D:/Thesis/Videos\")\n",
    "\n",
    "#   vd.extract_keyframes_from_videos_dir(\n",
    "#        no_of_frames=no_of_frames_to_return, dir_path=videos_dir_path,\n",
    "#        writer=diskwriter\n",
    "#   )"
   ]
  },
  {
   "cell_type": "markdown",
   "metadata": {},
   "source": [
    "The code below is to identify videos whose keyframe cannot be extracted by katna. We later isolate these videos to be directly feature extracted according to the method described in the paper."
   ]
  },
  {
   "cell_type": "code",
   "execution_count": 7,
   "metadata": {},
   "outputs": [],
   "source": [
    "import os\n",
    "import shutil\n",
    "\n",
    "folder_a_path = \"D:/Thesis/final_context_videos_0\"\n",
    "folder_b_path = \"D:/Thesis/Videos/final_context_keyframes\"\n",
    "folder_c_path = \"D:/Thesis/final_context_videos_1\"\n",
    "\n",
    "# Get list of filenames in folder A\n",
    "folder_a_files = os.listdir(folder_a_path)\n",
    "\n",
    "# Get list of filenames in folder B\n",
    "folder_b_files = os.listdir(folder_b_path)\n",
    "\n",
    "# Check for instances where filename in folder A doesn't have a matching filename in folder B\n",
    "missing_matches = []\n",
    "for filename_a in folder_a_files:\n",
    "    # Check if the filename ends with \".wav\"\n",
    "    if filename_a.endswith(\".mp4\"):\n",
    "        # Construct the expected filename in folder B by replacing \".wav\" with \"_0.jpg\"\n",
    "        expected_filename_b = filename_a.replace(\".mp4\", \"_0.jpeg\")\n",
    "        # Check if the expected filename exists in folder B\n",
    "        if expected_filename_b not in folder_b_files:\n",
    "            missing_matches.append((filename_a, expected_filename_b))\n",
    "\n",
    "# Output missing matches\n",
    "if missing_matches:\n",
    "    print(\"Moving files from folder A to folder C:\")\n",
    "    for filename_a, expected_filename_b in missing_matches:\n",
    "        print(f\"Moving {filename_a} to folder C\")\n",
    "        # Construct source and destination paths\n",
    "        source_path = os.path.join(folder_a_path, filename_a)\n",
    "        destination_path = os.path.join(folder_c_path, filename_a)\n",
    "        # Move file from folder A to folder C\n",
    "        shutil.move(source_path, destination_path)\n",
    "    print(\"Files moved successfully.\")\n",
    "else:\n",
    "    print(\"All filenames in folder A have corresponding augmented matches in folder B.\")\n"
   ]
  }
 ],
 "metadata": {
  "accelerator": "GPU",
  "colab": {
   "gpuType": "T4",
   "provenance": []
  },
  "kernelspec": {
   "display_name": "Python 3 (ipykernel)",
   "language": "python",
   "name": "python3"
  },
  "language_info": {
   "codemirror_mode": {
    "name": "ipython",
    "version": 3
   },
   "file_extension": ".py",
   "mimetype": "text/x-python",
   "name": "python",
   "nbconvert_exporter": "python",
   "pygments_lexer": "ipython3",
   "version": "undefined.undefined.undefined"
  }
 },
 "nbformat": 4,
 "nbformat_minor": 1
}
